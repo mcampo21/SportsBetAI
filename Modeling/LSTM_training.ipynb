{
 "cells": [
  {
   "cell_type": "code",
   "execution_count": 20,
   "metadata": {},
   "outputs": [],
   "source": [
    "import tensorflow as tf\n",
    "import os\n",
    "import pandas as pd\n",
    "import numpy as np\n",
    "import pickle"
   ]
  },
  {
   "cell_type": "code",
   "execution_count": 21,
   "metadata": {},
   "outputs": [],
   "source": [
    "file_path = '../Data/activePlayerCareerLogData.pickle'\n",
    "PLAYER = 'kyrie irving'\n",
    "target = 'PTS'\n",
    "cols_to_drop = ['SEASON_ID', 'Player_ID', 'GAME_DATE', 'OPP', 'TEAM', target + '_target']"
   ]
  },
  {
   "cell_type": "code",
   "execution_count": 22,
   "metadata": {},
   "outputs": [],
   "source": [
    "# Load collected player data from pickle file\n",
    "with open(file_path, 'rb') as file:\n",
    "    activePlayerCareerLog = pickle.load(file)"
   ]
  },
  {
   "cell_type": "code",
   "execution_count": 23,
   "metadata": {},
   "outputs": [
    {
     "data": {
      "text/html": [
       "<div>\n",
       "<style scoped>\n",
       "    .dataframe tbody tr th:only-of-type {\n",
       "        vertical-align: middle;\n",
       "    }\n",
       "\n",
       "    .dataframe tbody tr th {\n",
       "        vertical-align: top;\n",
       "    }\n",
       "\n",
       "    .dataframe thead th {\n",
       "        text-align: right;\n",
       "    }\n",
       "</style>\n",
       "<table border=\"1\" class=\"dataframe\">\n",
       "  <thead>\n",
       "    <tr style=\"text-align: right;\">\n",
       "      <th></th>\n",
       "      <th>SEASON_ID</th>\n",
       "      <th>Player_ID</th>\n",
       "      <th>GAME_DATE</th>\n",
       "      <th>WL</th>\n",
       "      <th>MIN</th>\n",
       "      <th>FGM</th>\n",
       "      <th>FGA</th>\n",
       "      <th>FG3M</th>\n",
       "      <th>FG3A</th>\n",
       "      <th>FTM</th>\n",
       "      <th>...</th>\n",
       "      <th>HOME</th>\n",
       "      <th>OPP</th>\n",
       "      <th>TEAM</th>\n",
       "      <th>REST</th>\n",
       "      <th>PTS_target</th>\n",
       "      <th>LAST_3_PTS</th>\n",
       "      <th>LAST_5_PTS</th>\n",
       "      <th>LAST_7_PTS</th>\n",
       "      <th>LAST_3_PLUS_MINUS</th>\n",
       "      <th>LAST_5_FGM_PCT</th>\n",
       "    </tr>\n",
       "  </thead>\n",
       "  <tbody>\n",
       "    <tr>\n",
       "      <th>0</th>\n",
       "      <td>22016</td>\n",
       "      <td>203932</td>\n",
       "      <td>2016-10-26</td>\n",
       "      <td>0</td>\n",
       "      <td>35</td>\n",
       "      <td>5</td>\n",
       "      <td>12</td>\n",
       "      <td>2</td>\n",
       "      <td>3</td>\n",
       "      <td>0</td>\n",
       "      <td>...</td>\n",
       "      <td>1</td>\n",
       "      <td>MIA</td>\n",
       "      <td>ORL</td>\n",
       "      <td>4</td>\n",
       "      <td>17.0</td>\n",
       "      <td>NaN</td>\n",
       "      <td>NaN</td>\n",
       "      <td>NaN</td>\n",
       "      <td>NaN</td>\n",
       "      <td>NaN</td>\n",
       "    </tr>\n",
       "    <tr>\n",
       "      <th>1</th>\n",
       "      <td>22016</td>\n",
       "      <td>203932</td>\n",
       "      <td>2016-10-28</td>\n",
       "      <td>0</td>\n",
       "      <td>29</td>\n",
       "      <td>6</td>\n",
       "      <td>12</td>\n",
       "      <td>1</td>\n",
       "      <td>2</td>\n",
       "      <td>4</td>\n",
       "      <td>...</td>\n",
       "      <td>0</td>\n",
       "      <td>DET</td>\n",
       "      <td>ORL</td>\n",
       "      <td>2</td>\n",
       "      <td>8.0</td>\n",
       "      <td>NaN</td>\n",
       "      <td>NaN</td>\n",
       "      <td>NaN</td>\n",
       "      <td>NaN</td>\n",
       "      <td>NaN</td>\n",
       "    </tr>\n",
       "    <tr>\n",
       "      <th>2</th>\n",
       "      <td>22016</td>\n",
       "      <td>203932</td>\n",
       "      <td>2016-10-29</td>\n",
       "      <td>0</td>\n",
       "      <td>26</td>\n",
       "      <td>3</td>\n",
       "      <td>7</td>\n",
       "      <td>1</td>\n",
       "      <td>3</td>\n",
       "      <td>1</td>\n",
       "      <td>...</td>\n",
       "      <td>0</td>\n",
       "      <td>CLE</td>\n",
       "      <td>ORL</td>\n",
       "      <td>1</td>\n",
       "      <td>7.0</td>\n",
       "      <td>12.333333</td>\n",
       "      <td>NaN</td>\n",
       "      <td>NaN</td>\n",
       "      <td>-14.000000</td>\n",
       "      <td>NaN</td>\n",
       "    </tr>\n",
       "    <tr>\n",
       "      <th>3</th>\n",
       "      <td>22016</td>\n",
       "      <td>203932</td>\n",
       "      <td>2016-11-01</td>\n",
       "      <td>1</td>\n",
       "      <td>32</td>\n",
       "      <td>3</td>\n",
       "      <td>10</td>\n",
       "      <td>0</td>\n",
       "      <td>4</td>\n",
       "      <td>1</td>\n",
       "      <td>...</td>\n",
       "      <td>0</td>\n",
       "      <td>PHI</td>\n",
       "      <td>ORL</td>\n",
       "      <td>3</td>\n",
       "      <td>13.0</td>\n",
       "      <td>10.666667</td>\n",
       "      <td>NaN</td>\n",
       "      <td>NaN</td>\n",
       "      <td>-6.666667</td>\n",
       "      <td>NaN</td>\n",
       "    </tr>\n",
       "    <tr>\n",
       "      <th>4</th>\n",
       "      <td>22016</td>\n",
       "      <td>203932</td>\n",
       "      <td>2016-11-03</td>\n",
       "      <td>1</td>\n",
       "      <td>31</td>\n",
       "      <td>5</td>\n",
       "      <td>10</td>\n",
       "      <td>1</td>\n",
       "      <td>3</td>\n",
       "      <td>2</td>\n",
       "      <td>...</td>\n",
       "      <td>1</td>\n",
       "      <td>SAC</td>\n",
       "      <td>ORL</td>\n",
       "      <td>2</td>\n",
       "      <td>9.0</td>\n",
       "      <td>9.333333</td>\n",
       "      <td>11.4</td>\n",
       "      <td>NaN</td>\n",
       "      <td>-2.666667</td>\n",
       "      <td>0.429048</td>\n",
       "    </tr>\n",
       "  </tbody>\n",
       "</table>\n",
       "<p>5 rows × 31 columns</p>\n",
       "</div>"
      ],
      "text/plain": [
       "  SEASON_ID  Player_ID  GAME_DATE  WL  MIN  FGM  FGA  FG3M  FG3A  FTM  ...   \n",
       "0     22016     203932 2016-10-26   0   35    5   12     2     3    0  ...  \\\n",
       "1     22016     203932 2016-10-28   0   29    6   12     1     2    4  ...   \n",
       "2     22016     203932 2016-10-29   0   26    3    7     1     3    1  ...   \n",
       "3     22016     203932 2016-11-01   1   32    3   10     0     4    1  ...   \n",
       "4     22016     203932 2016-11-03   1   31    5   10     1     3    2  ...   \n",
       "\n",
       "   HOME  OPP  TEAM  REST  PTS_target  LAST_3_PTS  LAST_5_PTS  LAST_7_PTS   \n",
       "0     1  MIA   ORL     4        17.0         NaN         NaN         NaN  \\\n",
       "1     0  DET   ORL     2         8.0         NaN         NaN         NaN   \n",
       "2     0  CLE   ORL     1         7.0   12.333333         NaN         NaN   \n",
       "3     0  PHI   ORL     3        13.0   10.666667         NaN         NaN   \n",
       "4     1  SAC   ORL     2         9.0    9.333333        11.4         NaN   \n",
       "\n",
       "   LAST_3_PLUS_MINUS  LAST_5_FGM_PCT  \n",
       "0                NaN             NaN  \n",
       "1                NaN             NaN  \n",
       "2         -14.000000             NaN  \n",
       "3          -6.666667             NaN  \n",
       "4          -2.666667        0.429048  \n",
       "\n",
       "[5 rows x 31 columns]"
      ]
     },
     "execution_count": 23,
     "metadata": {},
     "output_type": "execute_result"
    }
   ],
   "source": [
    "activePlayerCareerLog['aaron gordon'].head()"
   ]
  },
  {
   "cell_type": "code",
   "execution_count": 24,
   "metadata": {},
   "outputs": [],
   "source": [
    "for name, player_df in activePlayerCareerLog.items():\n",
    "    activePlayerCareerLog[name] = player_df.dropna()"
   ]
  },
  {
   "cell_type": "code",
   "execution_count": 25,
   "metadata": {},
   "outputs": [
    {
     "name": "stdout",
     "output_type": "stream",
     "text": [
      "['WL', 'MIN', 'FGM', 'FGA', 'FG3M', 'FG3A', 'FTM', 'FTA', 'OREB', 'DREB', 'REB', 'AST', 'STL', 'BLK', 'TOV', 'PF', 'PTS', 'PLUS_MINUS', 'HOME', 'REST', 'LAST_3_PTS', 'LAST_5_PTS', 'LAST_7_PTS', 'LAST_3_PLUS_MINUS', 'LAST_5_FGM_PCT']\n"
     ]
    }
   ],
   "source": [
    "df_columns = list(activePlayerCareerLog[PLAYER].columns)\n",
    "features = df_columns\n",
    "for col in cols_to_drop:\n",
    "    features.remove(col)\n",
    "print(features)"
   ]
  },
  {
   "cell_type": "code",
   "execution_count": 26,
   "metadata": {},
   "outputs": [
    {
     "name": "stdout",
     "output_type": "stream",
     "text": [
      "309 88 45\n"
     ]
    }
   ],
   "source": [
    "# Split players into train and test sets\n",
    "split_train_ratio = 0.70\n",
    "split_val_ratio = 0.90\n",
    "players_train = list(activePlayerCareerLog.keys())[:int(split_train_ratio * len(activePlayerCareerLog))]\n",
    "players_val = list(activePlayerCareerLog.keys())[int(split_train_ratio * len(activePlayerCareerLog)) : int(split_val_ratio * len(activePlayerCareerLog))]\n",
    "players_test = list(activePlayerCareerLog.keys())[int(split_val_ratio * len(activePlayerCareerLog)):]\n",
    "print(len(players_train), len(players_val), len(players_test))"
   ]
  },
  {
   "cell_type": "code",
   "execution_count": 27,
   "metadata": {},
   "outputs": [],
   "source": [
    "df_train = pd.concat(activePlayerCareerLog[name] for name in players_train)\n",
    "df_val = pd.concat(activePlayerCareerLog[name] for name in players_val)\n",
    "df_test = pd.concat(activePlayerCareerLog[name] for name in players_test)"
   ]
  },
  {
   "cell_type": "code",
   "execution_count": 28,
   "metadata": {},
   "outputs": [],
   "source": [
    "target_df_train = df_train[target]\n",
    "target_df_val = df_val[target]\n",
    "target_df_test = df_test[target]"
   ]
  },
  {
   "cell_type": "code",
   "execution_count": 29,
   "metadata": {},
   "outputs": [
    {
     "data": {
      "text/plain": [
       "(76923,)"
      ]
     },
     "execution_count": 29,
     "metadata": {},
     "output_type": "execute_result"
    }
   ],
   "source": [
    "target_df_train.shape"
   ]
  },
  {
   "cell_type": "code",
   "execution_count": 30,
   "metadata": {},
   "outputs": [],
   "source": [
    "def convert_df(df, window_size=5):\n",
    "    data = df.to_numpy()\n",
    "    X, y = [], []\n",
    "\n",
    "    for i in range(len(data) - window_size):\n",
    "        X.append([[a] for a in data[i:i + 5]])\n",
    "        y.append(data[i+5])\n",
    "\n",
    "    return np.array(X), np.array(y)"
   ]
  },
  {
   "cell_type": "code",
   "execution_count": 31,
   "metadata": {},
   "outputs": [],
   "source": [
    "WINDOW_SIZE = 5\n",
    "\n",
    "X_train, y_train = convert_df(target_df_train, WINDOW_SIZE)\n",
    "X_val, y_val = convert_df(target_df_val, WINDOW_SIZE)\n",
    "X_test, y_test = convert_df(target_df_test, WINDOW_SIZE)"
   ]
  },
  {
   "cell_type": "code",
   "execution_count": 32,
   "metadata": {},
   "outputs": [
    {
     "data": {
      "text/plain": [
       "((76918, 5, 1), (76918,))"
      ]
     },
     "execution_count": 32,
     "metadata": {},
     "output_type": "execute_result"
    }
   ],
   "source": [
    "X_train.shape, y_train.shape"
   ]
  },
  {
   "cell_type": "markdown",
   "metadata": {},
   "source": [
    "### LSTM Model Training"
   ]
  },
  {
   "cell_type": "code",
   "execution_count": 33,
   "metadata": {},
   "outputs": [],
   "source": [
    "from tensorflow.keras.models import Sequential\n",
    "from tensorflow.keras.layers import *\n",
    "from tensorflow.keras.callbacks import ModelCheckpoint\n",
    "from tensorflow.keras.losses import MeanSquaredError\n",
    "from tensorflow.keras.metrics import RootMeanSquaredError\n",
    "from tensorflow.keras.optimizers import Adam"
   ]
  },
  {
   "cell_type": "code",
   "execution_count": 34,
   "metadata": {},
   "outputs": [
    {
     "name": "stdout",
     "output_type": "stream",
     "text": [
      "Model: \"sequential\"\n",
      "_________________________________________________________________\n",
      " Layer (type)                Output Shape              Param #   \n",
      "=================================================================\n",
      " lstm (LSTM)                 (None, 10)                480       \n",
      "                                                                 \n",
      " dense (Dense)               (None, 8)                 88        \n",
      "                                                                 \n",
      " dense_1 (Dense)             (None, 1)                 9         \n",
      "                                                                 \n",
      "=================================================================\n",
      "Total params: 577\n",
      "Trainable params: 577\n",
      "Non-trainable params: 0\n",
      "_________________________________________________________________\n"
     ]
    }
   ],
   "source": [
    "model1 = Sequential()\n",
    "model1.add(InputLayer((5, 1)))\n",
    "model1.add(LSTM(10))\n",
    "model1.add(Dense(8, 'relu'))\n",
    "model1.add(Dense(1, 'linear'))\n",
    "\n",
    "model1.summary()"
   ]
  },
  {
   "cell_type": "code",
   "execution_count": 58,
   "metadata": {},
   "outputs": [],
   "source": [
    "cp = ModelCheckpoint('model1/', save_best_only=True)\n",
    "model1.compile(loss=MeanSquaredError(), optimizer=Adam(learning_rate=0.01), metrics=[RootMeanSquaredError()])"
   ]
  },
  {
   "cell_type": "code",
   "execution_count": 59,
   "metadata": {},
   "outputs": [
    {
     "name": "stdout",
     "output_type": "stream",
     "text": [
      "Epoch 1/10\n",
      "2727/2728 [============================>.] - ETA: 0s - loss: 46.5014 - root_mean_squared_error: 6.8192"
     ]
    },
    {
     "name": "stderr",
     "output_type": "stream",
     "text": [
      "WARNING:absl:Found untraced functions such as lstm_cell_2_layer_call_fn, lstm_cell_2_layer_call_and_return_conditional_losses while saving (showing 2 of 2). These functions will not be directly callable after loading.\n"
     ]
    },
    {
     "name": "stdout",
     "output_type": "stream",
     "text": [
      "INFO:tensorflow:Assets written to: model1\\assets\n"
     ]
    },
    {
     "name": "stderr",
     "output_type": "stream",
     "text": [
      "INFO:tensorflow:Assets written to: model1\\assets\n"
     ]
    },
    {
     "name": "stdout",
     "output_type": "stream",
     "text": [
      "2728/2728 [==============================] - 37s 13ms/step - loss: 46.4992 - root_mean_squared_error: 6.8190 - val_loss: 42.5173 - val_root_mean_squared_error: 6.5205\n",
      "Epoch 2/10\n",
      "2727/2728 [============================>.] - ETA: 0s - loss: 43.6620 - root_mean_squared_error: 6.6077"
     ]
    },
    {
     "name": "stderr",
     "output_type": "stream",
     "text": [
      "WARNING:absl:Found untraced functions such as lstm_cell_2_layer_call_fn, lstm_cell_2_layer_call_and_return_conditional_losses while saving (showing 2 of 2). These functions will not be directly callable after loading.\n"
     ]
    },
    {
     "name": "stdout",
     "output_type": "stream",
     "text": [
      "INFO:tensorflow:Assets written to: model1\\assets\n"
     ]
    },
    {
     "name": "stderr",
     "output_type": "stream",
     "text": [
      "INFO:tensorflow:Assets written to: model1\\assets\n"
     ]
    },
    {
     "name": "stdout",
     "output_type": "stream",
     "text": [
      "2728/2728 [==============================] - 30s 11ms/step - loss: 43.6627 - root_mean_squared_error: 6.6078 - val_loss: 41.8983 - val_root_mean_squared_error: 6.4729\n",
      "Epoch 3/10\n",
      "2723/2728 [============================>.] - ETA: 0s - loss: 43.5489 - root_mean_squared_error: 6.5992"
     ]
    },
    {
     "name": "stderr",
     "output_type": "stream",
     "text": [
      "WARNING:absl:Found untraced functions such as lstm_cell_2_layer_call_fn, lstm_cell_2_layer_call_and_return_conditional_losses while saving (showing 2 of 2). These functions will not be directly callable after loading.\n"
     ]
    },
    {
     "name": "stdout",
     "output_type": "stream",
     "text": [
      "INFO:tensorflow:Assets written to: model1\\assets\n"
     ]
    },
    {
     "name": "stderr",
     "output_type": "stream",
     "text": [
      "INFO:tensorflow:Assets written to: model1\\assets\n"
     ]
    },
    {
     "name": "stdout",
     "output_type": "stream",
     "text": [
      "2728/2728 [==============================] - 32s 12ms/step - loss: 43.5451 - root_mean_squared_error: 6.5989 - val_loss: 41.6990 - val_root_mean_squared_error: 6.4575\n",
      "Epoch 4/10\n",
      "2728/2728 [==============================] - 42s 15ms/step - loss: 43.4906 - root_mean_squared_error: 6.5947 - val_loss: 42.5990 - val_root_mean_squared_error: 6.5268\n",
      "Epoch 5/10\n",
      "2728/2728 [==============================] - 38s 14ms/step - loss: 43.4616 - root_mean_squared_error: 6.5925 - val_loss: 41.8700 - val_root_mean_squared_error: 6.4707\n",
      "Epoch 6/10\n",
      "2728/2728 [==============================] - 39s 14ms/step - loss: 43.3992 - root_mean_squared_error: 6.5878 - val_loss: 41.8449 - val_root_mean_squared_error: 6.4688\n",
      "Epoch 7/10\n",
      "2728/2728 [==============================] - 36s 13ms/step - loss: 43.3823 - root_mean_squared_error: 6.5865 - val_loss: 41.8824 - val_root_mean_squared_error: 6.4717\n",
      "Epoch 8/10\n",
      "2728/2728 [==============================] - 33s 12ms/step - loss: 43.3805 - root_mean_squared_error: 6.5864 - val_loss: 41.7527 - val_root_mean_squared_error: 6.4616\n",
      "Epoch 9/10\n",
      "2728/2728 [==============================] - 34s 12ms/step - loss: 43.4131 - root_mean_squared_error: 6.5889 - val_loss: 41.7334 - val_root_mean_squared_error: 6.4601\n",
      "Epoch 10/10\n",
      "2728/2728 [==============================] - 34s 12ms/step - loss: 43.4079 - root_mean_squared_error: 6.5885 - val_loss: 41.7809 - val_root_mean_squared_error: 6.4638\n"
     ]
    },
    {
     "data": {
      "text/plain": [
       "<keras.callbacks.History at 0x1934eb450c0>"
      ]
     },
     "execution_count": 59,
     "metadata": {},
     "output_type": "execute_result"
    }
   ],
   "source": [
    "model1.fit(X_train, y_train, validation_data=(X_val, y_val), epochs=10, callbacks=[cp])"
   ]
  },
  {
   "cell_type": "code",
   "execution_count": null,
   "metadata": {},
   "outputs": [],
   "source": []
  }
 ],
 "metadata": {
  "kernelspec": {
   "display_name": "tensorflow",
   "language": "python",
   "name": "python3"
  },
  "language_info": {
   "codemirror_mode": {
    "name": "ipython",
    "version": 3
   },
   "file_extension": ".py",
   "mimetype": "text/x-python",
   "name": "python",
   "nbconvert_exporter": "python",
   "pygments_lexer": "ipython3",
   "version": "3.10.9"
  }
 },
 "nbformat": 4,
 "nbformat_minor": 2
}
