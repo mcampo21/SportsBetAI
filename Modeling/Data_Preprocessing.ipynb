{
 "cells": [
  {
   "cell_type": "code",
   "execution_count": 2,
   "metadata": {},
   "outputs": [],
   "source": [
    "import pandas as pd\n",
    "import pickle"
   ]
  },
  {
   "cell_type": "code",
   "execution_count": null,
   "metadata": {},
   "outputs": [],
   "source": [
    "file_path = '../Data/activePlayerCareerLogData.pickle'\n",
    "PLAYER = 'kyrie irving'"
   ]
  },
  {
   "cell_type": "code",
   "execution_count": null,
   "metadata": {},
   "outputs": [],
   "source": [
    "# Load collected player data from pickle file\n",
    "with open(file_path, 'rb') as file:\n",
    "    activePlayerCareerLog = pickle.load(file)"
   ]
  },
  {
   "cell_type": "code",
   "execution_count": null,
   "metadata": {},
   "outputs": [],
   "source": [
    "# Clean Data and add features\n",
    "\n",
    "for name, df_player in activePlayerCareerLog.items():\n",
    "    df_player['WL'].replace({'L': 0, 'W': 1}, inplace=True)\n",
    "    df_player['REST'] = 0\n",
    "    \n",
    "    for idx in df_player.index[1:]:\n",
    "        date_difference = df_player['GAME_DATE'].iloc[idx] - df_player['GAME_DATE'].iloc[idx - 1]\n",
    "        df_player.at[idx, 'REST'] = date_difference.days\n",
    "\n",
    "    df_player.at[0, 'REST'] = 4 # assumed rest from NBA preseason to season start"
   ]
  },
  {
   "cell_type": "markdown",
   "metadata": {},
   "source": [
    "### Time Series Feature Engineering"
   ]
  },
  {
   "cell_type": "code",
   "execution_count": null,
   "metadata": {},
   "outputs": [],
   "source": [
    "target = 'PTS'\n",
    "cols_to_drop = ['SEASON_ID', 'Player_ID', 'GAME_DATE', 'OPP', 'TEAM', target + '_target']"
   ]
  },
  {
   "cell_type": "code",
   "execution_count": null,
   "metadata": {},
   "outputs": [],
   "source": [
    "# one lag time step\n",
    "def shift_target(df):\n",
    "    df[target + '_target'] = df[target].shift(-1)\n",
    "    df.dropna(inplace=True)\n",
    "    return df"
   ]
  },
  {
   "cell_type": "code",
   "execution_count": null,
   "metadata": {},
   "outputs": [],
   "source": [
    "# rolling window\n",
    "def recent_average(df, target, games=5):\n",
    "    shifted_stat = df[target]\n",
    "    window = shifted_stat.rolling(window=games).mean()\n",
    "    df['LAST_' + str(games) + '_' + target] = window\n",
    "    return df\n",
    "\n",
    "def recent_percentage(df, target1, target2, games=5):\n",
    "    shifted_stat1 = df[target1]\n",
    "    shifted_stat2 = df[target2]\n",
    "    stat_percentage = shifted_stat1 / shifted_stat2\n",
    "    window = stat_percentage.rolling(window=games).mean()\n",
    "    df['LAST_' + str(games) + '_' + target1 + '_PCT'] = window\n",
    "    return df"
   ]
  },
  {
   "cell_type": "code",
   "execution_count": null,
   "metadata": {},
   "outputs": [],
   "source": [
    "for player in activePlayerCareerLog.values():\n",
    "    player = shift_target(player)\n",
    "    player = recent_average(player, target, 3)\n",
    "    player = recent_average(player, target, 5)\n",
    "    player = recent_average(player, target, 7)\n",
    "    player = recent_average(player, 'PLUS_MINUS', 3)\n",
    "    player = recent_percentage(player, 'FGM', 'FGA', 5)"
   ]
  }
 ],
 "metadata": {
  "kernelspec": {
   "display_name": "tensorflow",
   "language": "python",
   "name": "python3"
  },
  "language_info": {
   "codemirror_mode": {
    "name": "ipython",
    "version": 3
   },
   "file_extension": ".py",
   "mimetype": "text/x-python",
   "name": "python",
   "nbconvert_exporter": "python",
   "pygments_lexer": "ipython3",
   "version": "3.10.9"
  }
 },
 "nbformat": 4,
 "nbformat_minor": 2
}
